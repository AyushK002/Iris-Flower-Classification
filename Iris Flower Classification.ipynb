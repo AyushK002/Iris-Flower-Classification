{
 "cells": [
  {
   "cell_type": "code",
   "execution_count": 35,
   "id": "a293affb",
   "metadata": {},
   "outputs": [],
   "source": [
    "from sklearn.model_selection import train_test_split as tt_split\n",
    "from sklearn.neighbors import KNeighborsClassifier\n",
    "import pandas as pd\n",
    "import numpy as np"
   ]
  },
  {
   "cell_type": "code",
   "execution_count": 36,
   "id": "803147f0",
   "metadata": {},
   "outputs": [],
   "source": [
    "iris_ds = pd.read_csv('C:\\\\Users\\\\Lenovo\\\\Downloads\\\\iris.csv') \t #Change the CSV file address as required\n",
    "x = iris_ds.iloc[:,1:5].values\n",
    "y = iris_ds.iloc[:,5:6].values\n",
    "x_train, x_test, y_train, y_test = tt_split(x,y,test_size = 1/5, random_state = 0)"
   ]
  },
  {
   "cell_type": "code",
   "execution_count": 37,
   "id": "8a920e33",
   "metadata": {},
   "outputs": [
    {
     "data": {
      "text/plain": [
       "KNeighborsClassifier(n_neighbors=1)"
      ]
     },
     "execution_count": 37,
     "metadata": {},
     "output_type": "execute_result"
    }
   ],
   "source": [
    "# Building the model :\n",
    "knc = KNeighborsClassifier(n_neighbors = 1)\n",
    "#print(y_train.shape)\n",
    "knc.fit(x_train, np.ravel(y_train,order='C'))"
   ]
  },
  {
   "cell_type": "code",
   "execution_count": 46,
   "id": "1a0b9956",
   "metadata": {},
   "outputs": [
    {
     "name": "stdout",
     "output_type": "stream",
     "text": [
      "True\n",
      "True\n",
      "True\n",
      "True\n",
      "True\n",
      "True\n",
      "True\n",
      "True\n",
      "True\n",
      "True\n",
      "True\n",
      "True\n",
      "True\n",
      "True\n",
      "True\n",
      "True\n",
      "True\n",
      "True\n",
      "True\n",
      "True\n",
      "True\n",
      "True\n",
      "True\n",
      "True\n",
      "True\n",
      "True\n",
      "True\n",
      "True\n",
      "True\n",
      "True\n"
     ]
    }
   ],
   "source": [
    "pred = knc.predict(x_test)\n",
    "#print(y_test[0])\n",
    "for i in range(30):\n",
    "    print(pred[i] == y_test[i][0])"
   ]
  },
  {
   "cell_type": "code",
   "execution_count": null,
   "id": "5bc7d8c9",
   "metadata": {},
   "outputs": [],
   "source": []
  }
 ],
 "metadata": {
  "kernelspec": {
   "display_name": "Python 3",
   "language": "python",
   "name": "python3"
  },
  "language_info": {
   "codemirror_mode": {
    "name": "ipython",
    "version": 3
   },
   "file_extension": ".py",
   "mimetype": "text/x-python",
   "name": "python",
   "nbconvert_exporter": "python",
   "pygments_lexer": "ipython3",
   "version": "3.8.8"
  }
 },
 "nbformat": 4,
 "nbformat_minor": 5
}
